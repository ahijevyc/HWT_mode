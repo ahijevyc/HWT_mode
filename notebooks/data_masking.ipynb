{
 "cells": [
  {
   "cell_type": "code",
   "execution_count": null,
   "metadata": {},
   "outputs": [],
   "source": [
    "from hwtmode.data import load_patch_files, combine_patch_data, min_max_scale, storm_max_value, get_meta_scalars\n",
    "import yaml\n",
    "import numpy as np\n",
    "import matplotlib.pyplot as plt\n"
   ]
  },
  {
   "cell_type": "code",
   "execution_count": 2,
   "metadata": {},
   "outputs": [],
   "source": [
    "config = \"../config/ws_mode_cnn_train_201210_hm_masked.yml\"\n",
    "with open(config, \"r\") as config_file:\n",
    "    config = yaml.load(config_file, Loader=yaml.Loader)"
   ]
  },
  {
   "cell_type": "code",
   "execution_count": 3,
   "metadata": {},
   "outputs": [
    {
     "name": "stderr",
     "output_type": "stream",
     "text": [
      "  0%|                                 | 0/4 [00:00<?, ?it/s]"
     ]
    },
    {
     "name": "stdout",
     "output_type": "stream",
     "text": [
      "Loading training data period: 2010-10-01 to 2010-10-31\n"
     ]
    },
    {
     "name": "stderr",
     "output_type": "stream",
     "text": [
      "100%|█████████████████████████| 4/4 [00:07<00:00,  1.86s/it]\n",
      "  0%|                                 | 0/1 [00:00<?, ?it/s]"
     ]
    },
    {
     "name": "stdout",
     "output_type": "stream",
     "text": [
      "REFL_COM_curr\n",
      "['time', 'centroid_lon', 'centroid_lat', 'centroid_i', 'centroid_j', 'track_id', 'track_step', 'run_date']\n",
      "Index(['time', 'centroid_lon', 'centroid_lat', 'centroid_i', 'centroid_j',\n",
      "       'track_id', 'track_step', 'run_date'],\n",
      "      dtype='object')\n"
     ]
    },
    {
     "name": "stderr",
     "output_type": "stream",
     "text": [
      "100%|█████████████████████████| 1/1 [00:02<00:00,  2.52s/it]\n",
      "  0%|                                 | 0/1 [00:00<?, ?it/s]"
     ]
    },
    {
     "name": "stdout",
     "output_type": "stream",
     "text": [
      "REFL_COM_curr\n",
      "['time', 'centroid_lon', 'centroid_lat', 'centroid_i', 'centroid_j', 'track_id', 'track_step', 'run_date']\n",
      "Index(['time', 'centroid_lon', 'centroid_lat', 'centroid_i', 'centroid_j',\n",
      "       'track_id', 'track_step', 'run_date'],\n",
      "      dtype='object')\n"
     ]
    },
    {
     "name": "stderr",
     "output_type": "stream",
     "text": [
      "100%|█████████████████████████| 1/1 [00:01<00:00,  1.83s/it]"
     ]
    },
    {
     "name": "stdout",
     "output_type": "stream",
     "text": [
      "REFL_COM_curr\n",
      "['time', 'centroid_lon', 'centroid_lat', 'centroid_i', 'centroid_j', 'track_id', 'track_step', 'run_date']\n",
      "Index(['time', 'centroid_lon', 'centroid_lat', 'centroid_i', 'centroid_j',\n",
      "       'track_id', 'track_step', 'run_date'],\n",
      "      dtype='object')\n"
     ]
    },
    {
     "name": "stderr",
     "output_type": "stream",
     "text": [
      "\n"
     ]
    }
   ],
   "source": [
    "# Load training data\n",
    "print(f\"Loading training data period: {config['train_start_date']} to {config['train_end_date']}\")\n",
    "data_input = {}\n",
    "output = {}\n",
    "out_max = {}\n",
    "labels = {}\n",
    "meta = {}\n",
    "meta_df = {}\n",
    "input_combined = {}\n",
    "input_scaled = {}\n",
    "scale_values = {}\n",
    "predictions = {}\n",
    "modes = [\"train\", \"val\", \"test\"]\n",
    "# Load training, validation, and testing data\n",
    "for mode in modes:\n",
    "    data_input[mode], output[mode], meta[mode] = load_patch_files(config[mode + \"_start_date\"],\n",
    "                                                             config[mode + \"_end_date\"],\n",
    "                                                             config[\"data_path\"],\n",
    "                                                             config[\"input_variables\"],\n",
    "                                                             config[\"output_variables\"],\n",
    "                                                             config[\"meta_variables\"],\n",
    "                                                             config[\"patch_radius\"],\n",
    "                                                             config[\"mask\"])\n",
    "    input_combined[mode] = combine_patch_data(data_input[mode], config[\"input_variables\"])\n",
    "    if mode == \"train\":\n",
    "        input_scaled[mode], scale_values[mode] = min_max_scale(input_combined[mode])\n",
    "    else:\n",
    "        input_scaled[mode], scale_values[mode] = min_max_scale(input_combined[mode], scale_values[\"train\"])\n",
    "    out_max[mode] = storm_max_value(output[mode][config[\"output_variables\"][0]], meta[mode][\"masks\"])\n",
    "    meta_df[mode] = get_meta_scalars(meta[mode])\n",
    "    print(meta_df[mode].columns)\n",
    "    if config[\"classifier\"]:\n",
    "        labels[mode] = np.where(out_max[mode] >= config[\"classifier_threshold\"], 1, 0)\n",
    "    else:\n",
    "        labels[mode] = out_max[mode]\n",
    "# del data_input, out_max\n"
   ]
  },
  {
   "cell_type": "code",
   "execution_count": 4,
   "metadata": {},
   "outputs": [
    {
     "data": {
      "text/plain": [
       "<matplotlib.image.AxesImage at 0x2aad905a4cd0>"
      ]
     },
     "execution_count": 4,
     "metadata": {},
     "output_type": "execute_result"
    },
    {
     "data": {
      "image/png": "[encoded data removed]",
      "text/plain": [
       "<Figure size 432x288 with 1 Axes>"
      ]
     },
     "metadata": {
      "needs_background": "light"
     },
     "output_type": "display_data"
    }
   ],
   "source": [
    "plt.imshow(input_scaled[\"train\"].values[0, :, :, 0], interpolation='nearest')"
   ]
  },
  {
   "cell_type": "code",
   "execution_count": 11,
   "metadata": {},
   "outputs": [
    {
     "data": {
      "text/plain": [
       "<matplotlib.image.AxesImage at 0x2af4b919fd50>"
      ]
     },
     "execution_count": 11,
     "metadata": {},
     "output_type": "execute_result"
    },
    {
     "data": {
      "image/png": "[encoded data removed]",
      "text/plain": [
       "<Figure size 432x288 with 1 Axes>"
      ]
     },
     "metadata": {
      "needs_background": "light"
     },
     "output_type": "display_data"
    }
   ],
   "source": [
    "plt.imshow(input_scaled[\"train\"].values[0, :, :, 0], interpolation='nearest')"
   ]
  },
  {
   "cell_type": "code",
   "execution_count": null,
   "metadata": {},
   "outputs": [],
   "source": []
  }
 ],
 "metadata": {
  "kernelspec": {
   "display_name": "Python 3",
   "language": "python",
   "name": "python3"
  },
  "language_info": {
   "codemirror_mode": {
    "name": "ipython",
    "version": 3
   },
   "file_extension": ".py",
   "mimetype": "text/x-python",
   "name": "python",
   "nbconvert_exporter": "python",
   "pygments_lexer": "ipython3",
   "version": "3.7.5"
  }
 },
 "nbformat": 4,
 "nbformat_minor": 4
}
