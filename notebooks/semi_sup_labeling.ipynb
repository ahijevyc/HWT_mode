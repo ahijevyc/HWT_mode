{
 "cells": [
  {
   "cell_type": "code",
   "execution_count": 1,
   "id": "dfb10cf0-ab54-4323-9995-dcc22345a1d8",
   "metadata": {},
   "outputs": [],
   "source": [
    "from hwtmode.evaluation import Cycle, image_viewer, natural_sort"
   ]
  },
  {
   "cell_type": "markdown",
   "id": "84bb9013-89f5-467a-bcac-8e28f9ab1ed4",
   "metadata": {
    "tags": []
   },
   "source": [
    "## Interactive Semi-supervision with Jupyter iWidgets \n",
    "\n",
    "#### Instructions:\n",
    "\n",
    "The following cell needs the path to the output from the main HWT training script, the names of the models, and the name / ID of the person performing the labeling (which is used in conjunction with a timestamp for creating a unique filename for the saved dictionary). The model path and names can be found in the `train_cnn_gmm.yml` configuration file. \n",
    "\n",
    "After the path, model names, and ID have been entered, simply run the image viewer cell to fire up the widget. You will see two images of composite reflectivity - one file of the 25 highest probability storms labeled as that cluster (left), and 25 of the lowest probability storms *that were still labeled as that cluster* (right). The probability of that cluster determined by the GMM is listed in the grey box within each storm sample.\n",
    "\n",
    "You can cycle through each cluster using the forward or backwaard buttons which will display images for the new cluster. You can then assign a cluster one of the three given convective modes by clicking the representative more button. You will receive confirmation that the click was registered with a message at the bottom. You can change the selections as many times as you'd like. When complete, simply click the Finished button which will save the selectoins to a dictionary and write it out to the relevant directory to be used for further evaluation. "
   ]
  },
  {
   "cell_type": "code",
   "execution_count": 5,
   "id": "6aa26112-87d8-40da-bd20-d4020c5535da",
   "metadata": {},
   "outputs": [],
   "source": [
    "base_path = \"/glade/scratch/cbecker/HWT_multi_output/\"\n",
    "CNN_name, GMM_name = \"SS_2\", \"GMM_1\" # Do SS2 next\n",
    "name_id = \"gabrielle\" # name / ID used to identify who is doing the labeling "
   ]
  },
  {
   "cell_type": "code",
   "execution_count": 6,
   "id": "3147ab4f-d29b-4111-934b-ddb5341729db",
   "metadata": {},
   "outputs": [
    {
     "data": {
      "application/vnd.jupyter.widget-view+json": {
       "model_id": "660b12820d1a45c39e08f7d1ce57e89f",
       "version_major": 2,
       "version_minor": 0
      },
      "text/plain": [
       "GridspecLayout(children=(Button(description='QLCS', layout=Layout(grid_area='widget001', height='75%', width='…"
      ]
     },
     "metadata": {},
     "output_type": "display_data"
    }
   ],
   "source": [
    "image_viewer(base_path, CNN_name, GMM_name, name_id)"
   ]
  },
  {
   "cell_type": "code",
   "execution_count": null,
   "id": "e6b25888-ac36-40b2-8160-459773693990",
   "metadata": {},
   "outputs": [],
   "source": []
  }
 ],
 "metadata": {
  "kernelspec": {
   "display_name": "Python 3",
   "language": "python",
   "name": "python3"
  },
  "language_info": {
   "codemirror_mode": {
    "name": "ipython",
    "version": 3
   },
   "file_extension": ".py",
   "mimetype": "text/x-python",
   "name": "python",
   "nbconvert_exporter": "python",
   "pygments_lexer": "ipython3",
   "version": "3.6.13"
  }
 },
 "nbformat": 4,
 "nbformat_minor": 5
}
