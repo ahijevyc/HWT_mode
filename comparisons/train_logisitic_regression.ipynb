{
 "cells": [
  {
   "cell_type": "code",
   "execution_count": 1,
   "id": "b2dab0ce-d412-46e1-b4eb-56b28d880324",
   "metadata": {},
   "outputs": [],
   "source": [
    "import pandas as pd\n",
    "import numpy as np\n",
    "from os.path import join, isfile\n",
    "\n",
    "import matplotlib\n",
    "import matplotlib.pyplot as plt\n",
    "\n",
    "from sklearn.linear_model import LogisticRegression\n",
    "from sklearn.metrics import confusion_matrix, roc_auc_score, brier_score_loss, accuracy_score\n",
    "from sklearn.calibration import calibration_curve"
   ]
  },
  {
   "cell_type": "code",
   "execution_count": 2,
   "id": "214f455c-9451-4ed4-99b5-acbcf77c5f78",
   "metadata": {},
   "outputs": [],
   "source": [
    "def load_labels(start, end, label_path, run_freq, file_format):\n",
    "    labels = []\n",
    "    for run_date in pd.date_range(start, end, freq=run_freq[0], closed=\"left\"):\n",
    "        file_name = join(label_path, f'track_step_NCARSTORM_d01_{run_date.strftime(\"%Y%m%d-0000\")}.{file_format}')\n",
    "        \n",
    "        if isfile(file_name):\n",
    "            if file_format == 'parquet':\n",
    "                labels.append(pd.read_parquet(file_name))\n",
    "            elif file_format == 'csv':\n",
    "                labels.append(pd.read_csv(file_name))\n",
    "        else:\n",
    "            continue\n",
    "\n",
    "    return pd.concat(labels)"
   ]
  },
  {
   "cell_type": "code",
   "execution_count": 3,
   "id": "a85f1799-4b9c-41b6-8f9f-ab6f9542193b",
   "metadata": {},
   "outputs": [
    {
     "name": "stderr",
     "output_type": "stream",
     "text": [
      "/glade/work/sobash/conda-envs/tf2py37/lib/python3.7/site-packages/pandas/core/indexing.py:1667: SettingWithCopyWarning: \n",
      "A value is trying to be set on a copy of a slice from a DataFrame.\n",
      "Try using .loc[row_indexer,col_indexer] = value instead\n",
      "\n",
      "See the caveats in the documentation: https://pandas.pydata.org/pandas-docs/stable/user_guide/indexing.html#returning-a-view-versus-a-copy\n",
      "  self.obj[key] = value\n"
     ]
    }
   ],
   "source": [
    "labels = load_labels(\"2013-01-01\", \"2013-12-31\", \"/glade/campaign/mmm/parc/sobash/mode_objects_hwt/track_data_ncarstorm_3km_REFL_COM_hyst_csv\", \"daily\", \"csv\")\n",
    "\n",
    "cnn_training_data = pd.read_csv('/glade/work/sobash/HWT_mode/model_cnn_test2_addstorms2_noaugval_newtrain/predictions_train.csv') # all storms in hand labeled dataset\n",
    "cnn_test_data = pd.read_csv('/glade/work/sobash/HWT_mode/model_cnn_test2_addstorms2_noaugval_newtrain/predictions_test.csv')\n",
    "\n",
    "cnn_training_data = cnn_training_data.iloc[:1781] #only get first set of storms (rest are rotated)\n",
    "hand_labeled = pd.concat([cnn_training_data, cnn_test_data])\n",
    "#hand_labeled = hand_labeled.loc[hand_labeled['run_date'] >= \"2013-01-01\"]\n",
    "\n",
    "# create columns with int and names\n",
    "categories_int = {'Q1':0, 'Q2':0, 'S1':1, 'S2':0, 'S3':1, 'D1':2, 'D2':2}\n",
    "categories = {'Q1':'QLCS', 'Q2': 'QLCS', 'S1':'Supercell', 'S2':'QLCS', 'S3':'Supercell', 'D1':'Disorganized', 'D2':'Disorganized'}\n",
    "\n",
    "hand_labeled['new_label_int'] = hand_labeled['label'].apply(lambda x: categories_int[x])\n",
    "hand_labeled['new_label'] = hand_labeled['label'].apply(lambda x: categories[x])\n",
    "\n",
    "# create unique id for both datasets\n",
    "hand_labeled['unique_id'] = hand_labeled['run_date'].astype(str) + '.' + hand_labeled['track_id'].astype(str) + '.' + hand_labeled['track_step'].astype(str)\n",
    "labels['unique_id'] = labels['Run_Date'].astype(str).apply(lambda x: x[:10]) + '.' + labels['Track_ID'].apply(lambda x: str(x[-3:]).lstrip(\"0\")) + '.' + labels['Duration'].astype(str)\n",
    "\n",
    "# create matched storms dataframe\n",
    "matched_labels = labels[labels['unique_id'].isin(hand_labeled.loc[:, 'unique_id'])] #extract only the storms with hand labels\n",
    "\n",
    "# create five label columns in matched_labels dataframe\n",
    "matched_labels.loc[:, 'true_label'] = hand_labeled.loc[:, 'new_label'].values.copy()\n",
    "matched_labels.loc[:, 'true_label_int'] = hand_labeled.loc[:, 'new_label_int'].values.copy()\n",
    "modes = ['QLCS', 'Supercell', 'Disorganized']\n",
    "for mode in modes: matched_labels.loc[:, f'true_label_{mode}_int'] = np.where(matched_labels[f'true_label'] == mode, 1.0, 0.0)"
   ]
  },
  {
   "cell_type": "code",
   "execution_count": 10,
   "id": "22260fe3-c44e-4658-bc9c-27cf1c302f40",
   "metadata": {},
   "outputs": [],
   "source": [
    "# define the multinomial logistic regression model\n",
    "model = LogisticRegression(multi_class='multinomial', solver='lbfgs', penalty='l2', C=1, max_iter=5000)\n",
    "\n",
    "# fit the model on the whole dataset\n",
    "train_mask = matched_labels['Run_Date'] < '2013-06-25 00:00:00'\n",
    "test_mask = ~train_mask\n",
    "\n",
    "features = ['UP_HELI_MAX_max','major_axis_length','area']\n",
    "X_train = matched_labels[features][train_mask].values\n",
    "y_train = matched_labels['true_label_int'][train_mask].values\n",
    "X_test  = matched_labels[features][test_mask].values\n",
    "y_test = matched_labels['true_label_int'][test_mask].values\n",
    "\n",
    "# train model with 2013 training dataset\n",
    "model.fit(X_train, y_train)\n",
    "\n",
    "# predict the class label for 2013 test dataset\n",
    "yhat = model.predict_proba(X_test)\n",
    "\n",
    "# output predictions if desired\n",
    "#lr_predictions_df = pd.DataFrame(data=yhat, index=range(yhat.shape[0]), columns=['LR_QLCS_prob','LR_Supercell_prob','LR_Disorganized_prob'])\n",
    "#lr_predictions_df['unique_id'] = matched_labels['unique_id'][1781:].values\n",
    "#lr_predictions_df.to_pickle('lr_predictions_test_storms.pk')"
   ]
  },
  {
   "cell_type": "code",
   "execution_count": 12,
   "id": "0345e605-aef0-4677-9f8d-9b6aa12588af",
   "metadata": {},
   "outputs": [],
   "source": [
    "# make LR Predictions for 2017-2019 storms\n",
    "objects = load_labels(\"2016-01-01\", \"2019-12-31\", \"/glade/work/cbecker/WRF_all/track_data_hrrr_3km_csv_refl\", \"daily\", \"csv\")\n",
    "objects['unique_id'] = objects['Run_Date'].astype(str).apply(lambda x: x[:10]) + '.' + objects['Track_ID'].apply(lambda x: str(x[-3:]).lstrip(\"0\")) + '.' + objects['Duration'].astype(str)\n",
    "\n",
    "# predict the class label\n",
    "yhat = model.predict_proba(objects[features].values)\n",
    "\n",
    "# output predictions\n",
    "lr_predictions_df = pd.DataFrame(data=yhat, index=range(yhat.shape[0]), columns=['LR_QLCS_prob','LR_Supercell_prob','LR_Disorganized_prob'])\n",
    "lr_predictions_df['Run_Date'] = objects['Run_Date'].values\n",
    "lr_predictions_df['unique_id'] = objects['unique_id'].values\n",
    "lr_predictions_df.to_pickle('lr_predictions_2016-2019_storms.pk')"
   ]
  },
  {
   "cell_type": "code",
   "execution_count": null,
   "id": "632f175a-df3c-4d95-bedb-783621768d03",
   "metadata": {},
   "outputs": [],
   "source": []
  }
 ],
 "metadata": {
  "kernelspec": {
   "display_name": "Python [conda env:tf2py37]",
   "language": "python",
   "name": "conda-env-tf2py37-py"
  },
  "language_info": {
   "codemirror_mode": {
    "name": "ipython",
    "version": 3
   },
   "file_extension": ".py",
   "mimetype": "text/x-python",
   "name": "python",
   "nbconvert_exporter": "python",
   "pygments_lexer": "ipython3",
   "version": "3.7.12"
  }
 },
 "nbformat": 4,
 "nbformat_minor": 5
}
